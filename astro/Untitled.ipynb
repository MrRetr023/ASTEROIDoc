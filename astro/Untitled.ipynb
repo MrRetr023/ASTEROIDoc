{
 "cells": [
  {
   "cell_type": "code",
   "execution_count": null,
   "id": "d4cccc09-1ea6-481c-94d4-96fbe3a632f6",
   "metadata": {},
   "outputs": [],
   "source": [
    "Tutorial 2: How to open FITS files images.\n",
    "\n",
    "Now for the fun stuff. Now that we have learned how to open FITS files, is time to open the image and see how it looks like. So, who is ready to see some stars?!\n",
    "\n",
    "For this, we will be employing the MatLab extension for python to plot the images."
   ]
  },
  {
   "cell_type": "code",
   "execution_count": null,
   "id": "d027e4cf-9890-4c73-a78c-b55d2b104c70",
   "metadata": {},
   "outputs": [],
   "source": [
    "import matplot.pyplot as plt\n",
    "import astropy.io import fits\n",
    "from astropy.utils.data import get_pkg_data_filename\n",
    "\n",
    "sampleimage = get_pkg_data_filename('tutorials/FITS-images/HorseHead.fits')\n"
   ]
  },
  {
   "cell_type": "code",
   "execution_count": null,
   "id": "23d17586-fbf5-494f-b752-ef5196fc766a",
   "metadata": {},
   "outputs": [],
   "source": []
  },
  {
   "cell_type": "code",
   "execution_count": null,
   "id": "5420f08b-aa09-4b4b-bc87-367470bc6ff1",
   "metadata": {},
   "outputs": [],
   "source": []
  }
 ],
 "metadata": {
  "kernelspec": {
   "display_name": "Python 3 (ipykernel)",
   "language": "python",
   "name": "python3"
  },
  "language_info": {
   "name": ""
  }
 },
 "nbformat": 4,
 "nbformat_minor": 5
}
