{
 "cells": [
  {
   "cell_type": "raw",
   "id": "5bb3c7f4-93e7-4fc0-a545-3fde126d2cdd",
   "metadata": {},
   "source": [
    "Tutorial 2: How to open FITS files images.\n",
    "\n",
    "Now for the fun stuff. Now that we have learned how to open FITS files, is time to open the image and see how it looks like. So, who is ready to see some stars?!\n",
    "\n",
    "For this, we will be employing the MatLab extension for python to plot the images."
   ]
  },
  {
   "cell_type": "code",
   "execution_count": null,
   "id": "0699fa54-5307-43c9-9457-671513ba650a",
   "metadata": {
    "tags": []
   },
   "outputs": [],
   "source": [
    "import matplot.pyplot as plt\n",
    "import astropy.io import fits\n",
    "from astropy.utils.data import get_pkg_data_filename\n",
    "\n",
    "sampleimage = get_pkg_data_filename('tutorials/FITS-images/HorseHead.fits')\n",
    "#\n"
   ]
  },
  {
   "cell_type": "code",
   "execution_count": null,
   "id": "322606cf-7666-4ee5-9de9-a6af9526c6f9",
   "metadata": {},
   "outputs": [],
   "source": []
  }
 ],
 "metadata": {
  "kernelspec": {
   "display_name": "Python 3 (ipykernel)",
   "language": "python",
   "name": "python3"
  },
  "language_info": {
   "name": ""
  }
 },
 "nbformat": 4,
 "nbformat_minor": 5
}
