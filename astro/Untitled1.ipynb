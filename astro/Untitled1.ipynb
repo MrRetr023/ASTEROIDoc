{
 "cells": [
  {
   "cell_type": "code",
   "execution_count": null,
   "id": "6d11cf22-7921-4188-9548-afa880189283",
   "metadata": {},
   "outputs": [],
   "source": [
    "from astropy.io import fits\n",
    "import matplotlib.pyplot as plt\n",
    "from matplotlib.colors import LogNorm \n",
    "from astropy.stats import SigmaClip\n",
    "from photutils.background import Background2D, MedianBackground\n",
    "from photutils.segmentation import make_source_mask\n",
    "import numpy as np\n",
    "from photutils.utils import circular_footprint\n",
    "from photutils.segmentation import SegmentationImage\n"
   ]
  },
  {
   "cell_type": "code",
   "execution_count": null,
   "id": "20287ced-0446-41e8-9f6c-09feff6524d5",
   "metadata": {},
   "outputs": [],
   "source": []
  }
 ],
 "metadata": {
  "kernelspec": {
   "display_name": "Python 3 (ipykernel)",
   "language": "python",
   "name": "python3"
  },
  "language_info": {
   "name": ""
  }
 },
 "nbformat": 4,
 "nbformat_minor": 5
}
